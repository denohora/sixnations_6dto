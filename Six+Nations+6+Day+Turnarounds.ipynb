{
 "cells": [
  {
   "cell_type": "markdown",
   "metadata": {},
   "source": [
    "# 6 Day Turnarounds and Preparation day advantage - 6 Nations Rugby"
   ]
  },
  {
   "cell_type": "markdown",
   "metadata": {},
   "source": [
    "I wanted to check whether 6-Day turn-arounds made teams more vulnerable to a defeat in Rugby Union. \n",
    "\n",
    "These data were originally extracted from ESPN at the link in the wiki. Their data is provided per team, which provides two rows per match, so re-organised it to have one entry per match, with the data from the Home team's perspective in each case. This provides more data per match and importantly highlights differences in prep time, which I thought might be more important than 6 day turnarounds per se.\n",
    "\n",
    "So, let's import our data and have a quick look at what we have."
   ]
  },
  {
   "cell_type": "code",
   "execution_count": 31,
   "metadata": {},
   "outputs": [
    {
     "name": "stdout",
     "output_type": "stream",
     "text": [
      "Total Home wins, losses and draws\n"
     ]
    },
    {
     "data": {
      "text/html": [
       "<table>\n",
       "<thead><tr><th scope=col>Result</th><th scope=col>GMD</th></tr></thead>\n",
       "<tbody>\n",
       "\t<tr><td>draw</td><td>  5 </td></tr>\n",
       "\t<tr><td>lost</td><td> 83 </td></tr>\n",
       "\t<tr><td>won </td><td>136 </td></tr>\n",
       "</tbody>\n",
       "</table>\n"
      ],
      "text/latex": [
       "\\begin{tabular}{r|ll}\n",
       " Result & GMD\\\\\n",
       "\\hline\n",
       "\t draw &   5 \\\\\n",
       "\t lost &  83 \\\\\n",
       "\t won  & 136 \\\\\n",
       "\\end{tabular}\n"
      ],
      "text/markdown": [
       "\n",
       "| Result | GMD |\n",
       "|---|---|\n",
       "| draw |   5  |\n",
       "| lost |  83  |\n",
       "| won  | 136  |\n",
       "\n"
      ],
      "text/plain": [
       "  Result GMD\n",
       "1 draw     5\n",
       "2 lost    83\n",
       "3 won    136"
      ]
     },
     "metadata": {},
     "output_type": "display_data"
    },
    {
     "name": "stdout",
     "output_type": "stream",
     "text": [
      "\n",
      "Average Home win rate\n"
     ]
    },
    {
     "data": {
      "text/html": [
       "0.61"
      ],
      "text/latex": [
       "0.61"
      ],
      "text/markdown": [
       "0.61"
      ],
      "text/plain": [
       "[1] 0.61"
      ]
     },
     "metadata": {},
     "output_type": "display_data"
    }
   ],
   "source": [
    "data = read.csv(\"sixnations_6dayto.csv\")\n",
    "# data is set up with one row per game  - Team is home team\n",
    "\n",
    "## let's take out greater than 1 day difference in prep (4 games)\n",
    "data = data[data$diff.Date.adv<2 & data$diff.Date.adv> -2,]\n",
    "\n",
    "## Initial coarse look\n",
    "writeLines(\"Total Home wins, losses and draws\")\n",
    "aggregate(GMD~Result, data, length)\n",
    "\n",
    "writeLines(\"\")\n",
    "\n",
    "\n",
    "writeLines(\"Average Home win rate\")\n",
    "round(mean(data$Result==\"won\"),2)"
   ]
  },
  {
   "cell_type": "markdown",
   "metadata": {},
   "source": [
    "So, there is a solid advantage to being the home team in Six Nations rugby. No surprise there.\n",
    "\n",
    "Now, let's check the Home win rate for 6 day turn arounds by the Home and Away teams"
   ]
  },
  {
   "cell_type": "code",
   "execution_count": 20,
   "metadata": {},
   "outputs": [
    {
     "name": "stdout",
     "output_type": "stream",
     "text": [
      "Home win rate when Home have 6 day TOs? Higher than avg\n"
     ]
    },
    {
     "data": {
      "text/html": [
       "0.68"
      ],
      "text/latex": [
       "0.68"
      ],
      "text/markdown": [
       "0.68"
      ],
      "text/plain": [
       "[1] 0.68"
      ]
     },
     "metadata": {},
     "output_type": "display_data"
    },
    {
     "name": "stdout",
     "output_type": "stream",
     "text": [
      "Home win rate when Opp have a 6 day TOs? Highest\n"
     ]
    },
    {
     "data": {
      "text/html": [
       "0.75"
      ],
      "text/latex": [
       "0.75"
      ],
      "text/markdown": [
       "0.75"
      ],
      "text/plain": [
       "[1] 0.75"
      ]
     },
     "metadata": {},
     "output_type": "display_data"
    },
    {
     "name": "stdout",
     "output_type": "stream",
     "text": [
      "Average Home points diff\n"
     ]
    },
    {
     "data": {
      "text/html": [
       "3.74"
      ],
      "text/latex": [
       "3.74"
      ],
      "text/markdown": [
       "3.74"
      ],
      "text/plain": [
       "[1] 3.74"
      ]
     },
     "metadata": {},
     "output_type": "display_data"
    },
    {
     "name": "stdout",
     "output_type": "stream",
     "text": [
      "Average Home points diff in when home team has 6 day TO? Below but close to avg\n"
     ]
    },
    {
     "data": {
      "text/html": [
       "3.2"
      ],
      "text/latex": [
       "3.2"
      ],
      "text/markdown": [
       "3.2"
      ],
      "text/plain": [
       "[1] 3.2"
      ]
     },
     "metadata": {},
     "output_type": "display_data"
    },
    {
     "name": "stdout",
     "output_type": "stream",
     "text": [
      "Average Home points diff  when Opp have a 6 day TOs? Higher than average\n"
     ]
    },
    {
     "data": {
      "text/html": [
       "4.62"
      ],
      "text/latex": [
       "4.62"
      ],
      "text/markdown": [
       "4.62"
      ],
      "text/plain": [
       "[1] 4.62"
      ]
     },
     "metadata": {},
     "output_type": "display_data"
    }
   ],
   "source": [
    "writeLines(\"Home win rate when Home have 6 day TOs? Higher than avg\")\n",
    "with(data[data$diff.Date<7,], mean(Result==\"won\"))\n",
    "writeLines(\"Home win rate when Opp have a 6 day TOs? Highest\")\n",
    "with(data[data$diff.Date.Opp<7,], mean(Result==\"won\"))\n",
    "\n",
    "writeLines(\"Average Home points diff\")\n",
    "round(mean(data$Diff),2) # \n",
    "\n",
    "writeLines(\"Average Home points diff in when home team has 6 day TO? Below but close to avg\")\n",
    "with(data[data$diff.Date<7,], round(mean(Diff),2))\n",
    "writeLines(\"Average Home points diff  when Opp have a 6 day TOs? Higher than average\")\n",
    "with(data[data$diff.Date.Opp<7,], round(mean(Diff),2))"
   ]
  },
  {
   "cell_type": "markdown",
   "metadata": {},
   "source": [
    "So, if you're the home team, you are more likely to win if either you have 6 dat turnaround or the opposition. Why? \n",
    "\n",
    "Points adv increases if the opposition have a 6 day TO.\n",
    "\n",
    "Let's check whether the matches in each category (6 day TO Home and 6 Day TO Away) are as easy as the average.\n",
    "\n",
    "We'll use the Win Rate for that year as an index of team strength and subtract Away from Home to get the Home team strength advantage. This is problematic as the Win Rate includes the games we are predicting, but it'll do as a first approximation."
   ]
  },
  {
   "cell_type": "code",
   "execution_count": 30,
   "metadata": {},
   "outputs": [
    {
     "name": "stdout",
     "output_type": "stream",
     "text": [
      "Average Home Win Rate adv - is the Home team stronger on average? No\n"
     ]
    },
    {
     "data": {
      "text/html": [
       "0"
      ],
      "text/latex": [
       "0"
      ],
      "text/markdown": [
       "0"
      ],
      "text/plain": [
       "[1] 0"
      ]
     },
     "metadata": {},
     "output_type": "display_data"
    },
    {
     "name": "stdout",
     "output_type": "stream",
     "text": [
      "Home adv in Win Rate when Home have 6 day TOs? Slight\n"
     ]
    },
    {
     "data": {
      "text/html": [
       "0.01"
      ],
      "text/latex": [
       "0.01"
      ],
      "text/markdown": [
       "0.01"
      ],
      "text/plain": [
       "[1] 0.01"
      ]
     },
     "metadata": {},
     "output_type": "display_data"
    },
    {
     "name": "stdout",
     "output_type": "stream",
     "text": [
      "Home adv in Win Rate when Opp have 6 day TOs? Highest\n"
     ]
    },
    {
     "data": {
      "text/html": [
       "0.03"
      ],
      "text/latex": [
       "0.03"
      ],
      "text/markdown": [
       "0.03"
      ],
      "text/plain": [
       "[1] 0.03"
      ]
     },
     "metadata": {},
     "output_type": "display_data"
    },
    {
     "name": "stdout",
     "output_type": "stream",
     "text": [
      "Some of the effect of 6 day turnarounds is due to weaker teams as opposition for these matches\n"
     ]
    }
   ],
   "source": [
    "data$Year.WR.diff = data$Year.WR - data$Year.WR.Opp\n",
    "# hist(data$Year.WR.diff) if needed\n",
    "writeLines(\"Average Home Win Rate adv - is the Home team stronger on average? No\") \n",
    "round(mean(data$Year.WR.diff),2)\n",
    "writeLines(\"Home adv in Win Rate when Home have 6 day TOs? Slight\")\n",
    "with(data[data$diff.Date<7,], round(mean(Year.WR.diff),2))\n",
    "writeLines(\"Home adv in Win Rate when Opp have 6 day TOs? Highest\")\n",
    "with(data[data$diff.Date.Opp<7,], round(mean(Year.WR.diff),2))\n",
    "writeLines(\"Some of the effect of 6 day turnarounds is due to weaker teams as opposition for these matches\")\n"
   ]
  },
  {
   "cell_type": "markdown",
   "metadata": {},
   "source": [
    "This is tricky to analyse. Just looking at the date differences, there seems to be an effect. In particular, the home team has an advantage if the away team has one less day of prep.\n",
    "\n",
    "But, this is complicated by the fact that it seems that the opposition teams that have one less day of prep tend to be weaker teams based on their overall performance that year (but it is hard to exclude the effect of the trun-around loss on their overall performance).\n"
   ]
  },
  {
   "cell_type": "code",
   "execution_count": null,
   "metadata": {
    "collapsed": true
   },
   "outputs": [],
   "source": [
    "aggregate(Year.WR.diff~diff.Date.adv, data, mean)"
   ]
  }
 ],
 "metadata": {
  "kernelspec": {
   "display_name": "R",
   "language": "R",
   "name": "ir"
  },
  "language_info": {
   "codemirror_mode": "r",
   "file_extension": ".r",
   "mimetype": "text/x-r-source",
   "name": "R",
   "pygments_lexer": "r",
   "version": "3.5.2"
  }
 },
 "nbformat": 4,
 "nbformat_minor": 2
}
