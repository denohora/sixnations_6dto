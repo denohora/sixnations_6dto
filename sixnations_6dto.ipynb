{
 "cells": [
  {
   "cell_type": "markdown",
   "metadata": {},
   "source": [
    "# 6 Day Turnarounds and Preparation day advantage - 6 Nations Rugby"
   ]
  },
  {
   "cell_type": "markdown",
   "metadata": {},
   "source": [
    "I wanted to check whether 6-Day turn-arounds made teams more vulnerable to a defeat in Rugby Union. \n",
    "\n",
    "These data were originally extracted from ESPN at the link in the wiki. Their data is provided per team, which provides two rows per match, so re-organised it to have one entry per match, with the data from the Home team's perspective in each case. This provides more data per match and importantly highlights differences in prep time, which I thought might be more important than 6 day turnarounds per se.\n",
    "\n",
    "So, let's import our data and have a quick look at what we have."
   ]
  },
  {
   "cell_type": "code",
   "execution_count": 1,
   "metadata": {},
   "outputs": [
    {
     "name": "stdout",
     "output_type": "stream",
     "text": [
      "Total Home wins, losses and draws\n"
     ]
    },
    {
     "data": {
      "text/html": [
       "<table>\n",
       "<thead><tr><th scope=col>Result</th><th scope=col>GMD</th></tr></thead>\n",
       "<tbody>\n",
       "\t<tr><td>draw</td><td>  5 </td></tr>\n",
       "\t<tr><td>lost</td><td> 83 </td></tr>\n",
       "\t<tr><td>won </td><td>136 </td></tr>\n",
       "</tbody>\n",
       "</table>\n"
      ],
      "text/latex": [
       "\\begin{tabular}{r|ll}\n",
       " Result & GMD\\\\\n",
       "\\hline\n",
       "\t draw &   5 \\\\\n",
       "\t lost &  83 \\\\\n",
       "\t won  & 136 \\\\\n",
       "\\end{tabular}\n"
      ],
      "text/markdown": [
       "\n",
       "| Result | GMD |\n",
       "|---|---|\n",
       "| draw |   5  |\n",
       "| lost |  83  |\n",
       "| won  | 136  |\n",
       "\n"
      ],
      "text/plain": [
       "  Result GMD\n",
       "1 draw     5\n",
       "2 lost    83\n",
       "3 won    136"
      ]
     },
     "metadata": {},
     "output_type": "display_data"
    },
    {
     "name": "stdout",
     "output_type": "stream",
     "text": [
      "\n",
      "Average Home win rate\n"
     ]
    },
    {
     "data": {
      "text/html": [
       "0.61"
      ],
      "text/latex": [
       "0.61"
      ],
      "text/markdown": [
       "0.61"
      ],
      "text/plain": [
       "[1] 0.61"
      ]
     },
     "metadata": {},
     "output_type": "display_data"
    }
   ],
   "source": [
    "data = read.csv(\"sixnations_6dayto.csv\")\n",
    "# data is set up with one row per game  - Team is home team\n",
    "\n",
    "## let's take out greater than 1 day difference in prep (4 games)\n",
    "data = data[data$diff.Date.adv<2 & data$diff.Date.adv> -2,]\n",
    "\n",
    "## Initial coarse look\n",
    "writeLines(\"Total Home wins, losses and draws\")\n",
    "aggregate(GMD~Result, data, length)\n",
    "\n",
    "writeLines(\"\")\n",
    "\n",
    "\n",
    "writeLines(\"Average Home win rate\")\n",
    "round(mean(data$Result==\"won\"),2)"
   ]
  },
  {
   "cell_type": "markdown",
   "metadata": {},
   "source": [
    "So, there is a solid advantage to being the home team in Six Nations rugby. No surprise there.\n",
    "\n",
    "Now, let's check the Home win rate for 6 day turn arounds by the Home and Away teams"
   ]
  },
  {
   "cell_type": "code",
   "execution_count": 2,
   "metadata": {},
   "outputs": [
    {
     "name": "stdout",
     "output_type": "stream",
     "text": [
      "Home win rate when Home have 6 day TOs? Higher than avg\n"
     ]
    },
    {
     "data": {
      "text/html": [
       "0.68"
      ],
      "text/latex": [
       "0.68"
      ],
      "text/markdown": [
       "0.68"
      ],
      "text/plain": [
       "[1] 0.68"
      ]
     },
     "metadata": {},
     "output_type": "display_data"
    },
    {
     "name": "stdout",
     "output_type": "stream",
     "text": [
      "Home win rate when Opp have a 6 day TOs? Highest\n"
     ]
    },
    {
     "data": {
      "text/html": [
       "0.75"
      ],
      "text/latex": [
       "0.75"
      ],
      "text/markdown": [
       "0.75"
      ],
      "text/plain": [
       "[1] 0.75"
      ]
     },
     "metadata": {},
     "output_type": "display_data"
    },
    {
     "name": "stdout",
     "output_type": "stream",
     "text": [
      "Average Home points diff\n"
     ]
    },
    {
     "data": {
      "text/html": [
       "3.74"
      ],
      "text/latex": [
       "3.74"
      ],
      "text/markdown": [
       "3.74"
      ],
      "text/plain": [
       "[1] 3.74"
      ]
     },
     "metadata": {},
     "output_type": "display_data"
    },
    {
     "name": "stdout",
     "output_type": "stream",
     "text": [
      "Average Home points diff in when home team has 6 day TO? Below but close to avg\n"
     ]
    },
    {
     "data": {
      "text/html": [
       "3.2"
      ],
      "text/latex": [
       "3.2"
      ],
      "text/markdown": [
       "3.2"
      ],
      "text/plain": [
       "[1] 3.2"
      ]
     },
     "metadata": {},
     "output_type": "display_data"
    },
    {
     "name": "stdout",
     "output_type": "stream",
     "text": [
      "Average Home points diff  when Opp have a 6 day TOs? Higher than average\n"
     ]
    },
    {
     "data": {
      "text/html": [
       "4.62"
      ],
      "text/latex": [
       "4.62"
      ],
      "text/markdown": [
       "4.62"
      ],
      "text/plain": [
       "[1] 4.62"
      ]
     },
     "metadata": {},
     "output_type": "display_data"
    }
   ],
   "source": [
    "writeLines(\"Home win rate when Home have 6 day TOs? Higher than avg\")\n",
    "with(data[data$diff.Date<7,], mean(Result==\"won\"))\n",
    "writeLines(\"Home win rate when Opp have a 6 day TOs? Highest\")\n",
    "with(data[data$diff.Date.Opp<7,], mean(Result==\"won\"))\n",
    "\n",
    "writeLines(\"Average Home points diff\")\n",
    "round(mean(data$Diff),2) # \n",
    "\n",
    "writeLines(\"Average Home points diff in when home team has 6 day TO? Below but close to avg\")\n",
    "with(data[data$diff.Date<7,], round(mean(Diff),2))\n",
    "writeLines(\"Average Home points diff  when Opp have a 6 day TOs? Higher than average\")\n",
    "with(data[data$diff.Date.Opp<7,], round(mean(Diff),2))"
   ]
  },
  {
   "cell_type": "markdown",
   "metadata": {},
   "source": [
    "So, if you're the home team, you are more likely to win if either you have 6 dat turnaround or the opposition. Why? \n",
    "\n",
    "Points adv increases if the opposition have a 6 day TO.\n",
    "\n",
    "Let's check whether the matches in each category (6 day TO Home and 6 Day TO Away) are as easy as the average.\n",
    "\n",
    "We'll use the Win Rate for that year as an index of team strength and subtract Away from Home to get the Home team strength advantage. This is problematic as the Win Rate includes the games we are predicting, but it'll do as a first approximation."
   ]
  },
  {
   "cell_type": "code",
   "execution_count": 3,
   "metadata": {},
   "outputs": [
    {
     "name": "stdout",
     "output_type": "stream",
     "text": [
      "Average Home Win Rate adv - is the Home team stronger on average? No\n"
     ]
    },
    {
     "data": {
      "text/html": [
       "0"
      ],
      "text/latex": [
       "0"
      ],
      "text/markdown": [
       "0"
      ],
      "text/plain": [
       "[1] 0"
      ]
     },
     "metadata": {},
     "output_type": "display_data"
    },
    {
     "name": "stdout",
     "output_type": "stream",
     "text": [
      "Home adv in Win Rate when Home have 6 day TOs? Slight\n"
     ]
    },
    {
     "data": {
      "text/html": [
       "0.01"
      ],
      "text/latex": [
       "0.01"
      ],
      "text/markdown": [
       "0.01"
      ],
      "text/plain": [
       "[1] 0.01"
      ]
     },
     "metadata": {},
     "output_type": "display_data"
    },
    {
     "name": "stdout",
     "output_type": "stream",
     "text": [
      "Home adv in Win Rate when Opp have 6 day TOs? Highest\n"
     ]
    },
    {
     "data": {
      "text/html": [
       "0.03"
      ],
      "text/latex": [
       "0.03"
      ],
      "text/markdown": [
       "0.03"
      ],
      "text/plain": [
       "[1] 0.03"
      ]
     },
     "metadata": {},
     "output_type": "display_data"
    },
    {
     "name": "stdout",
     "output_type": "stream",
     "text": [
      "Some of the effect of 6 day turnarounds is due to weaker teams as opposition for these matches\n"
     ]
    }
   ],
   "source": [
    "data$Year.WR.diff = data$Year.WR - data$Year.WR.Opp\n",
    "# hist(data$Year.WR.diff) if needed\n",
    "writeLines(\"Average Home Win Rate adv - is the Home team stronger on average? No\") \n",
    "round(mean(data$Year.WR.diff),2)\n",
    "writeLines(\"Home adv in Win Rate when Home have 6 day TOs? Slight\")\n",
    "with(data[data$diff.Date<7,], round(mean(Year.WR.diff),2))\n",
    "writeLines(\"Home adv in Win Rate when Opp have 6 day TOs? Highest\")\n",
    "with(data[data$diff.Date.Opp<7,], round(mean(Year.WR.diff),2))\n",
    "writeLines(\"Some of the effect of 6 day turnarounds is due to weaker teams as opposition for these matches\")\n"
   ]
  },
  {
   "cell_type": "markdown",
   "metadata": {},
   "source": [
    "### Consider differences in prep time \n",
    "6/13 days for home vs 7/14 for opp (-1)\n",
    "\n",
    "7/14 days for home vs 7/14 for opp (0)\n",
    "\n",
    "7/14 days for home vs 6/13 for opp (+1)"
   ]
  },
  {
   "cell_type": "markdown",
   "metadata": {},
   "source": [
    "#### Does prep time difference (diff.Date.avd) affect the probability of winning a six nations game?"
   ]
  },
  {
   "cell_type": "code",
   "execution_count": 9,
   "metadata": {},
   "outputs": [
    {
     "data": {
      "text/html": [
       "<table>\n",
       "<thead><tr><th scope=col>diff.Date.adv</th><th scope=col>Result == \"won\"</th></tr></thead>\n",
       "<tbody>\n",
       "\t<tr><td>-1  </td><td>0.59</td></tr>\n",
       "\t<tr><td> 0  </td><td>0.55</td></tr>\n",
       "\t<tr><td> 1  </td><td>0.76</td></tr>\n",
       "</tbody>\n",
       "</table>\n"
      ],
      "text/latex": [
       "\\begin{tabular}{r|ll}\n",
       " diff.Date.adv & Result == \"won\"\\\\\n",
       "\\hline\n",
       "\t -1   & 0.59\\\\\n",
       "\t  0   & 0.55\\\\\n",
       "\t  1   & 0.76\\\\\n",
       "\\end{tabular}\n"
      ],
      "text/markdown": [
       "\n",
       "| diff.Date.adv | Result == \"won\" |\n",
       "|---|---|\n",
       "| -1   | 0.59 |\n",
       "|  0   | 0.55 |\n",
       "|  1   | 0.76 |\n",
       "\n"
      ],
      "text/plain": [
       "  diff.Date.adv Result == \"won\"\n",
       "1 -1            0.59           \n",
       "2  0            0.55           \n",
       "3  1            0.76           "
      ]
     },
     "metadata": {},
     "output_type": "display_data"
    }
   ],
   "source": [
    "round(aggregate(Result==\"won\"~diff.Date.adv, data, mean),2)"
   ]
  },
  {
   "cell_type": "markdown",
   "metadata": {},
   "source": [
    "Yes.\n",
    "\n",
    "#### Are there differences in team strength (Year.WR.diff) that align with prep time difference (diff.Date.avd)?"
   ]
  },
  {
   "cell_type": "code",
   "execution_count": 8,
   "metadata": {},
   "outputs": [
    {
     "data": {
      "text/html": [
       "<table>\n",
       "<thead><tr><th scope=col>diff.Date.adv</th><th scope=col>Year.WR.diff</th></tr></thead>\n",
       "<tbody>\n",
       "\t<tr><td>-1   </td><td> 0.03</td></tr>\n",
       "\t<tr><td> 0   </td><td>-0.05</td></tr>\n",
       "\t<tr><td> 1   </td><td> 0.07</td></tr>\n",
       "</tbody>\n",
       "</table>\n"
      ],
      "text/latex": [
       "\\begin{tabular}{r|ll}\n",
       " diff.Date.adv & Year.WR.diff\\\\\n",
       "\\hline\n",
       "\t -1    &  0.03\\\\\n",
       "\t  0    & -0.05\\\\\n",
       "\t  1    &  0.07\\\\\n",
       "\\end{tabular}\n"
      ],
      "text/markdown": [
       "\n",
       "| diff.Date.adv | Year.WR.diff |\n",
       "|---|---|\n",
       "| -1    |  0.03 |\n",
       "|  0    | -0.05 |\n",
       "|  1    |  0.07 |\n",
       "\n"
      ],
      "text/plain": [
       "  diff.Date.adv Year.WR.diff\n",
       "1 -1             0.03       \n",
       "2  0            -0.05       \n",
       "3  1             0.07       "
      ]
     },
     "metadata": {},
     "output_type": "display_data"
    }
   ],
   "source": [
    "round(aggregate(Year.WR.diff~diff.Date.adv, data, mean),2)"
   ]
  },
  {
   "cell_type": "markdown",
   "metadata": {},
   "source": [
    "This is tricky to analyse. Just looking at the date differences, there seems to be an effect. In particular, the home team has an advantage if the away team has one less day of prep.\n",
    "\n",
    "But, this is complicated by the fact that it seems that the opposition teams that have one less day of prep tend to be weaker teams based on their overall performance that year (but it is hard to exclude the effect of the trun-around loss on their overall performance).\n",
    "\n",
    "### Predicting wins based on differences in prep time"
   ]
  },
  {
   "cell_type": "code",
   "execution_count": 19,
   "metadata": {},
   "outputs": [
    {
     "data": {
      "text/html": [
       "<table>\n",
       "<thead><tr><th></th><th scope=col>One Day Less</th><th scope=col>One Day More</th></tr></thead>\n",
       "<tbody>\n",
       "\t<tr><th scope=row>-1</th><td>1</td><td>0</td></tr>\n",
       "\t<tr><th scope=row>0</th><td>0</td><td>0</td></tr>\n",
       "\t<tr><th scope=row>1</th><td>0</td><td>1</td></tr>\n",
       "</tbody>\n",
       "</table>\n"
      ],
      "text/latex": [
       "\\begin{tabular}{r|ll}\n",
       "  & One Day Less & One Day More\\\\\n",
       "\\hline\n",
       "\t-1 & 1 & 0\\\\\n",
       "\t0 & 0 & 0\\\\\n",
       "\t1 & 0 & 1\\\\\n",
       "\\end{tabular}\n"
      ],
      "text/markdown": [
       "\n",
       "| <!--/--> | One Day Less | One Day More |\n",
       "|---|---|---|\n",
       "| -1 | 1 | 0 |\n",
       "| 0 | 0 | 0 |\n",
       "| 1 | 0 | 1 |\n",
       "\n"
      ],
      "text/plain": [
       "   One Day Less One Day More\n",
       "-1 1            0           \n",
       "0  0            0           \n",
       "1  0            1           "
      ]
     },
     "metadata": {},
     "output_type": "display_data"
    },
    {
     "data": {
      "text/plain": [
       "\n",
       "Call:\n",
       "glm(formula = Result == \"won\" ~ diff.Date.fac, family = binomial(link = \"logit\"), \n",
       "    data = data)\n",
       "\n",
       "Deviance Residuals: \n",
       "    Min       1Q   Median       3Q      Max  \n",
       "-1.6775  -1.2629   0.7495   1.0942   1.0942  \n",
       "\n",
       "Coefficients:\n",
       "                          Estimate Std. Error z value Pr(>|z|)  \n",
       "(Intercept)                 0.1989     0.1908   1.042   0.2972  \n",
       "diff.Date.facOne Day Less   0.1806     0.3181   0.568   0.5701  \n",
       "diff.Date.facOne Day More   0.9272     0.3831   2.420   0.0155 *\n",
       "---\n",
       "Signif. codes:  0 ‘***’ 0.001 ‘**’ 0.01 ‘*’ 0.05 ‘.’ 0.1 ‘ ’ 1\n",
       "\n",
       "(Dispersion parameter for binomial family taken to be 1)\n",
       "\n",
       "    Null deviance: 300.16  on 223  degrees of freedom\n",
       "Residual deviance: 293.80  on 221  degrees of freedom\n",
       "AIC: 299.8\n",
       "\n",
       "Number of Fisher Scoring iterations: 4\n"
      ]
     },
     "metadata": {},
     "output_type": "display_data"
    },
    {
     "name": "stdout",
     "output_type": "stream",
     "text": [
      "Odds ratios\n"
     ]
    },
    {
     "name": "stderr",
     "output_type": "stream",
     "text": [
      "Waiting for profiling to be done...\n"
     ]
    },
    {
     "data": {
      "text/html": [
       "<table>\n",
       "<thead><tr><th></th><th scope=col>OR</th><th scope=col>2.5 %</th><th scope=col>97.5 %</th></tr></thead>\n",
       "<tbody>\n",
       "\t<tr><th scope=row>(Intercept)</th><td>1.220</td><td>0.840</td><td>1.779</td></tr>\n",
       "\t<tr><th scope=row>diff.Date.facOne Day Less</th><td>1.198</td><td>0.644</td><td>2.248</td></tr>\n",
       "\t<tr><th scope=row>diff.Date.facOne Day More</th><td>2.527</td><td>1.219</td><td>5.529</td></tr>\n",
       "</tbody>\n",
       "</table>\n"
      ],
      "text/latex": [
       "\\begin{tabular}{r|lll}\n",
       "  & OR & 2.5 \\% & 97.5 \\%\\\\\n",
       "\\hline\n",
       "\t(Intercept) & 1.220 & 0.840 & 1.779\\\\\n",
       "\tdiff.Date.facOne Day Less & 1.198 & 0.644 & 2.248\\\\\n",
       "\tdiff.Date.facOne Day More & 2.527 & 1.219 & 5.529\\\\\n",
       "\\end{tabular}\n"
      ],
      "text/markdown": [
       "\n",
       "| <!--/--> | OR | 2.5 % | 97.5 % |\n",
       "|---|---|---|---|\n",
       "| (Intercept) | 1.220 | 0.840 | 1.779 |\n",
       "| diff.Date.facOne Day Less | 1.198 | 0.644 | 2.248 |\n",
       "| diff.Date.facOne Day More | 2.527 | 1.219 | 5.529 |\n",
       "\n"
      ],
      "text/plain": [
       "                          OR    2.5 % 97.5 %\n",
       "(Intercept)               1.220 0.840 1.779 \n",
       "diff.Date.facOne Day Less 1.198 0.644 2.248 \n",
       "diff.Date.facOne Day More 2.527 1.219 5.529 "
      ]
     },
     "metadata": {},
     "output_type": "display_data"
    }
   ],
   "source": [
    "data$diff.Date.fac = as.factor(data$diff.Date.adv)\n",
    "contrasts(data$diff.Date.fac) = matrix(c(1,0,0,0,0,1), ncol = 2)#-.5 # set up no diff as reference level\n",
    "colnames(contrasts(data$diff.Date.fac) ) = c(\"One Day Less\", \"One Day More\")\n",
    "contrasts(data$diff.Date.fac)\n",
    "\n",
    "win.diffdate.glm = glm(Result==\"won\" ~ diff.Date.fac, data, \n",
    "                  family = binomial(link = \"logit\"))\n",
    "summary(win.diffdate.glm)\n",
    "writeLines(\"Odds ratios\") \n",
    "round(exp(cbind(OR = coef(win.diffdate.glm), confint(win.diffdate.glm))),3) # odds ratios "
   ]
  },
  {
   "cell_type": "markdown",
   "metadata": {},
   "source": [
    "Let's control for the Home team. Some teams are stronger than others."
   ]
  },
  {
   "cell_type": "code",
   "execution_count": 20,
   "metadata": {},
   "outputs": [
    {
     "data": {
      "text/plain": [
       "\n",
       "Call:\n",
       "glm(formula = Result == \"won\" ~ Team + diff.Date.fac, family = binomial(link = \"logit\"), \n",
       "    data = data)\n",
       "\n",
       "Deviance Residuals: \n",
       "    Min       1Q   Median       3Q      Max  \n",
       "-2.1759  -0.9375   0.6305   0.7434   1.7513  \n",
       "\n",
       "Coefficients:\n",
       "                          Estimate Std. Error z value Pr(>|z|)    \n",
       "(Intercept)                1.50366    0.47660   3.155 0.001605 ** \n",
       "TeamFrance                -0.35884    0.60098  -0.597 0.550449    \n",
       "TeamIreland               -0.75421    0.58668  -1.286 0.198593    \n",
       "TeamItaly                 -2.79424    0.58959  -4.739 2.15e-06 ***\n",
       "TeamScotland              -2.09799    0.56288  -3.727 0.000194 ***\n",
       "TeamWales                 -0.98089    0.57298  -1.712 0.086914 .  \n",
       "diff.Date.facOne Day Less  0.06226    0.35991   0.173 0.862665    \n",
       "diff.Date.facOne Day More  0.76529    0.42171   1.815 0.069566 .  \n",
       "---\n",
       "Signif. codes:  0 ‘***’ 0.001 ‘**’ 0.01 ‘*’ 0.05 ‘.’ 0.1 ‘ ’ 1\n",
       "\n",
       "(Dispersion parameter for binomial family taken to be 1)\n",
       "\n",
       "    Null deviance: 300.16  on 223  degrees of freedom\n",
       "Residual deviance: 249.51  on 216  degrees of freedom\n",
       "AIC: 265.51\n",
       "\n",
       "Number of Fisher Scoring iterations: 4\n"
      ]
     },
     "metadata": {},
     "output_type": "display_data"
    },
    {
     "name": "stdout",
     "output_type": "stream",
     "text": [
      "Odds ratios\n"
     ]
    },
    {
     "name": "stderr",
     "output_type": "stream",
     "text": [
      "Waiting for profiling to be done...\n"
     ]
    },
    {
     "data": {
      "text/html": [
       "<table>\n",
       "<thead><tr><th></th><th scope=col>OR</th><th scope=col>2.5 %</th><th scope=col>97.5 %</th></tr></thead>\n",
       "<tbody>\n",
       "\t<tr><th scope=row>(Intercept)</th><td>4.498 </td><td>1.885 </td><td>12.586</td></tr>\n",
       "\t<tr><th scope=row>TeamFrance</th><td>0.698 </td><td>0.206 </td><td> 2.260</td></tr>\n",
       "\t<tr><th scope=row>TeamIreland</th><td>0.470 </td><td>0.141 </td><td> 1.457</td></tr>\n",
       "\t<tr><th scope=row>TeamItaly</th><td>0.061 </td><td>0.018 </td><td> 0.183</td></tr>\n",
       "\t<tr><th scope=row>TeamScotland</th><td>0.123 </td><td>0.038 </td><td> 0.352</td></tr>\n",
       "\t<tr><th scope=row>TeamWales</th><td>0.375 </td><td>0.115 </td><td> 1.119</td></tr>\n",
       "\t<tr><th scope=row>diff.Date.facOne Day Less</th><td>1.064 </td><td>0.525 </td><td> 2.165</td></tr>\n",
       "\t<tr><th scope=row>diff.Date.facOne Day More</th><td>2.150 </td><td>0.959 </td><td> 5.055</td></tr>\n",
       "</tbody>\n",
       "</table>\n"
      ],
      "text/latex": [
       "\\begin{tabular}{r|lll}\n",
       "  & OR & 2.5 \\% & 97.5 \\%\\\\\n",
       "\\hline\n",
       "\t(Intercept) & 4.498  & 1.885  & 12.586\\\\\n",
       "\tTeamFrance & 0.698  & 0.206  &  2.260\\\\\n",
       "\tTeamIreland & 0.470  & 0.141  &  1.457\\\\\n",
       "\tTeamItaly & 0.061  & 0.018  &  0.183\\\\\n",
       "\tTeamScotland & 0.123  & 0.038  &  0.352\\\\\n",
       "\tTeamWales & 0.375  & 0.115  &  1.119\\\\\n",
       "\tdiff.Date.facOne Day Less & 1.064  & 0.525  &  2.165\\\\\n",
       "\tdiff.Date.facOne Day More & 2.150  & 0.959  &  5.055\\\\\n",
       "\\end{tabular}\n"
      ],
      "text/markdown": [
       "\n",
       "| <!--/--> | OR | 2.5 % | 97.5 % |\n",
       "|---|---|---|---|\n",
       "| (Intercept) | 4.498  | 1.885  | 12.586 |\n",
       "| TeamFrance | 0.698  | 0.206  |  2.260 |\n",
       "| TeamIreland | 0.470  | 0.141  |  1.457 |\n",
       "| TeamItaly | 0.061  | 0.018  |  0.183 |\n",
       "| TeamScotland | 0.123  | 0.038  |  0.352 |\n",
       "| TeamWales | 0.375  | 0.115  |  1.119 |\n",
       "| diff.Date.facOne Day Less | 1.064  | 0.525  |  2.165 |\n",
       "| diff.Date.facOne Day More | 2.150  | 0.959  |  5.055 |\n",
       "\n"
      ],
      "text/plain": [
       "                          OR    2.5 % 97.5 %\n",
       "(Intercept)               4.498 1.885 12.586\n",
       "TeamFrance                0.698 0.206  2.260\n",
       "TeamIreland               0.470 0.141  1.457\n",
       "TeamItaly                 0.061 0.018  0.183\n",
       "TeamScotland              0.123 0.038  0.352\n",
       "TeamWales                 0.375 0.115  1.119\n",
       "diff.Date.facOne Day Less 1.064 0.525  2.165\n",
       "diff.Date.facOne Day More 2.150 0.959  5.055"
      ]
     },
     "metadata": {},
     "output_type": "display_data"
    }
   ],
   "source": [
    "data$Team = as.factor(data$Team)\n",
    "\n",
    "win.diffdate.glm = glm(Result==\"won\" ~ Team + diff.Date.fac, data, \n",
    "                  family = binomial(link = \"logit\"))\n",
    "summary(win.diffdate.glm)\n",
    "writeLines(\"Odds ratios\") \n",
    "round(exp(cbind(OR = coef(win.diffdate.glm), confint(win.diffdate.glm))),3) # odds ratios \n"
   ]
  },
  {
   "cell_type": "markdown",
   "metadata": {},
   "source": [
    "Using England as our reference, Italy and Scotland are significantly less likely to win at home than England. \n",
    "The other teams are also less likely to win than England on average, but not significantly so.\n",
    "The advantage of 1 day of prep time is borderline significant.\n",
    "\n",
    "Let's control for the opposition"
   ]
  },
  {
   "cell_type": "code",
   "execution_count": 21,
   "metadata": {},
   "outputs": [
    {
     "data": {
      "text/plain": [
       "\n",
       "Call:\n",
       "glm(formula = Result == \"won\" ~ Team + Opposition + diff.Date.fac, \n",
       "    family = binomial(link = \"logit\"), data = data)\n",
       "\n",
       "Deviance Residuals: \n",
       "    Min       1Q   Median       3Q      Max  \n",
       "-2.2612  -0.7430   0.2876   0.8155   2.1141  \n",
       "\n",
       "Coefficients:\n",
       "                          Estimate Std. Error z value Pr(>|z|)    \n",
       "(Intercept)                 0.8425     0.6630   1.271 0.203852    \n",
       "TeamFrance                 -0.2986     0.6579  -0.454 0.649871    \n",
       "TeamIreland                -0.8187     0.6466  -1.266 0.205476    \n",
       "TeamItaly                  -2.8194     0.6679  -4.221 2.43e-05 ***\n",
       "TeamScotland               -2.0096     0.6211  -3.235 0.001215 ** \n",
       "TeamWales                  -1.0232     0.6398  -1.599 0.109759    \n",
       "Oppositionv France          0.2174     0.5398   0.403 0.687182    \n",
       "Oppositionv Ireland        -0.3016     0.5395  -0.559 0.576201    \n",
       "Oppositionv Italy           2.3962     0.7348   3.261 0.001110 ** \n",
       "Oppositionv Scotland        2.4519     0.7239   3.387 0.000706 ***\n",
       "Oppositionv Wales           0.1711     0.5453   0.314 0.753652    \n",
       "diff.Date.facOne Day Less   0.1571     0.3943   0.398 0.690374    \n",
       "diff.Date.facOne Day More   0.8934     0.4668   1.914 0.055646 .  \n",
       "---\n",
       "Signif. codes:  0 ‘***’ 0.001 ‘**’ 0.01 ‘*’ 0.05 ‘.’ 0.1 ‘ ’ 1\n",
       "\n",
       "(Dispersion parameter for binomial family taken to be 1)\n",
       "\n",
       "    Null deviance: 300.16  on 223  degrees of freedom\n",
       "Residual deviance: 211.68  on 211  degrees of freedom\n",
       "AIC: 237.68\n",
       "\n",
       "Number of Fisher Scoring iterations: 5\n"
      ]
     },
     "metadata": {},
     "output_type": "display_data"
    },
    {
     "name": "stdout",
     "output_type": "stream",
     "text": [
      "Odds ratios\n"
     ]
    },
    {
     "name": "stderr",
     "output_type": "stream",
     "text": [
      "Waiting for profiling to be done...\n"
     ]
    },
    {
     "data": {
      "text/html": [
       "<table>\n",
       "<thead><tr><th></th><th scope=col>OR</th><th scope=col>2.5 %</th><th scope=col>97.5 %</th></tr></thead>\n",
       "<tbody>\n",
       "\t<tr><th scope=row>(Intercept)</th><td> 2.322</td><td>0.648 </td><td> 8.921</td></tr>\n",
       "\t<tr><th scope=row>TeamFrance</th><td> 0.742</td><td>0.197 </td><td> 2.684</td></tr>\n",
       "\t<tr><th scope=row>TeamIreland</th><td> 0.441</td><td>0.118 </td><td> 1.535</td></tr>\n",
       "\t<tr><th scope=row>TeamItaly</th><td> 0.060</td><td>0.015 </td><td> 0.206</td></tr>\n",
       "\t<tr><th scope=row>TeamScotland</th><td> 0.134</td><td>0.037 </td><td> 0.431</td></tr>\n",
       "\t<tr><th scope=row>TeamWales</th><td> 0.359</td><td>0.097 </td><td> 1.227</td></tr>\n",
       "\t<tr><th scope=row>Oppositionv France</th><td> 1.243</td><td>0.431 </td><td> 3.613</td></tr>\n",
       "\t<tr><th scope=row>Oppositionv Ireland</th><td> 0.740</td><td>0.254 </td><td> 2.130</td></tr>\n",
       "\t<tr><th scope=row>Oppositionv Italy</th><td>10.982</td><td>2.907 </td><td>55.602</td></tr>\n",
       "\t<tr><th scope=row>Oppositionv Scotland</th><td>11.611</td><td>3.087 </td><td>54.825</td></tr>\n",
       "\t<tr><th scope=row>Oppositionv Wales</th><td> 1.187</td><td>0.407 </td><td> 3.487</td></tr>\n",
       "\t<tr><th scope=row>diff.Date.facOne Day Less</th><td> 1.170</td><td>0.539 </td><td> 2.545</td></tr>\n",
       "\t<tr><th scope=row>diff.Date.facOne Day More</th><td> 2.444</td><td>0.996 </td><td> 6.274</td></tr>\n",
       "</tbody>\n",
       "</table>\n"
      ],
      "text/latex": [
       "\\begin{tabular}{r|lll}\n",
       "  & OR & 2.5 \\% & 97.5 \\%\\\\\n",
       "\\hline\n",
       "\t(Intercept) &  2.322 & 0.648  &  8.921\\\\\n",
       "\tTeamFrance &  0.742 & 0.197  &  2.684\\\\\n",
       "\tTeamIreland &  0.441 & 0.118  &  1.535\\\\\n",
       "\tTeamItaly &  0.060 & 0.015  &  0.206\\\\\n",
       "\tTeamScotland &  0.134 & 0.037  &  0.431\\\\\n",
       "\tTeamWales &  0.359 & 0.097  &  1.227\\\\\n",
       "\tOppositionv France &  1.243 & 0.431  &  3.613\\\\\n",
       "\tOppositionv Ireland &  0.740 & 0.254  &  2.130\\\\\n",
       "\tOppositionv Italy & 10.982 & 2.907  & 55.602\\\\\n",
       "\tOppositionv Scotland & 11.611 & 3.087  & 54.825\\\\\n",
       "\tOppositionv Wales &  1.187 & 0.407  &  3.487\\\\\n",
       "\tdiff.Date.facOne Day Less &  1.170 & 0.539  &  2.545\\\\\n",
       "\tdiff.Date.facOne Day More &  2.444 & 0.996  &  6.274\\\\\n",
       "\\end{tabular}\n"
      ],
      "text/markdown": [
       "\n",
       "| <!--/--> | OR | 2.5 % | 97.5 % |\n",
       "|---|---|---|---|\n",
       "| (Intercept) |  2.322 | 0.648  |  8.921 |\n",
       "| TeamFrance |  0.742 | 0.197  |  2.684 |\n",
       "| TeamIreland |  0.441 | 0.118  |  1.535 |\n",
       "| TeamItaly |  0.060 | 0.015  |  0.206 |\n",
       "| TeamScotland |  0.134 | 0.037  |  0.431 |\n",
       "| TeamWales |  0.359 | 0.097  |  1.227 |\n",
       "| Oppositionv France |  1.243 | 0.431  |  3.613 |\n",
       "| Oppositionv Ireland |  0.740 | 0.254  |  2.130 |\n",
       "| Oppositionv Italy | 10.982 | 2.907  | 55.602 |\n",
       "| Oppositionv Scotland | 11.611 | 3.087  | 54.825 |\n",
       "| Oppositionv Wales |  1.187 | 0.407  |  3.487 |\n",
       "| diff.Date.facOne Day Less |  1.170 | 0.539  |  2.545 |\n",
       "| diff.Date.facOne Day More |  2.444 | 0.996  |  6.274 |\n",
       "\n"
      ],
      "text/plain": [
       "                          OR     2.5 % 97.5 %\n",
       "(Intercept)                2.322 0.648  8.921\n",
       "TeamFrance                 0.742 0.197  2.684\n",
       "TeamIreland                0.441 0.118  1.535\n",
       "TeamItaly                  0.060 0.015  0.206\n",
       "TeamScotland               0.134 0.037  0.431\n",
       "TeamWales                  0.359 0.097  1.227\n",
       "Oppositionv France         1.243 0.431  3.613\n",
       "Oppositionv Ireland        0.740 0.254  2.130\n",
       "Oppositionv Italy         10.982 2.907 55.602\n",
       "Oppositionv Scotland      11.611 3.087 54.825\n",
       "Oppositionv Wales          1.187 0.407  3.487\n",
       "diff.Date.facOne Day Less  1.170 0.539  2.545\n",
       "diff.Date.facOne Day More  2.444 0.996  6.274"
      ]
     },
     "metadata": {},
     "output_type": "display_data"
    }
   ],
   "source": [
    "data$Opposition = as.factor(data$Opposition)\n",
    "\n",
    "win.diffdate.glm = glm(Result==\"won\" ~ Team + Opposition + diff.Date.fac, data, \n",
    "                  family = binomial(link = \"logit\"))\n",
    "summary(win.diffdate.glm)\n",
    "writeLines(\"Odds ratios\") \n",
    "round(exp(cbind(OR = coef(win.diffdate.glm), confint(win.diffdate.glm))),3) # odds ratios "
   ]
  },
  {
   "cell_type": "markdown",
   "metadata": {},
   "source": [
    "Using England as our reference, home teams are significantly more likely to win if Italy and Scotland are the visiting team. Only Ireland are a more difficult opposition than England and not significantly so.\n",
    "\n",
    "The advantage of 1 day of prep time is borderline significant.\n",
    "\n",
    "So, I think we can say that an advantage of one day's prep time does help the Home team in the 6 Nations. \n",
    "\n",
    "This effect is clouded by the fact that differences in prep time tend to occur when the Home team is stronger that year (though strength is influenced by the win). \n",
    "\n",
    "Interestingly, when you're the home team, having one day's less prep time doesn't have a significant effect."
   ]
  },
  {
   "cell_type": "code",
   "execution_count": null,
   "metadata": {
    "collapsed": true
   },
   "outputs": [],
   "source": []
  }
 ],
 "metadata": {
  "kernelspec": {
   "display_name": "R",
   "language": "R",
   "name": "ir"
  },
  "language_info": {
   "codemirror_mode": "r",
   "file_extension": ".r",
   "mimetype": "text/x-r-source",
   "name": "R",
   "pygments_lexer": "r",
   "version": "3.5.2"
  }
 },
 "nbformat": 4,
 "nbformat_minor": 2
}
